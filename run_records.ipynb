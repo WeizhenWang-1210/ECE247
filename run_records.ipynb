{
 "cells": [
  {
   "cell_type": "code",
   "execution_count": null,
   "metadata": {},
   "outputs": [],
   "source": [
    "! python -m emg2qwerty.train \\\n",
    "  user=\"single_user\" \\\n",
    "  trainer.accelerator=gpu trainer.devices=1\n",
    "# baseline"
   ]
  },
  {
   "cell_type": "code",
   "execution_count": null,
   "metadata": {},
   "outputs": [],
   "source": [
    "! CUDA_VISIBLE_DEVICES=1 python -m emg2qwerty.train user=\"single_user\" trainer.accelerator=gpu trainer.devices=1 trainer.config_name=attn\n",
    "# baseline"
   ]
  }
 ],
 "metadata": {
  "kernelspec": {
   "display_name": "emg2qwerty",
   "language": "python",
   "name": "python3"
  },
  "language_info": {
   "name": "python",
   "version": "3.10.13"
  }
 },
 "nbformat": 4,
 "nbformat_minor": 2
}
