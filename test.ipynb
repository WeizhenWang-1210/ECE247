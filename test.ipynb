{
  "cells": [
    {
      "cell_type": "markdown",
      "metadata": {
        "id": "IvxJOJu4XUIW"
      },
      "source": [
        "### Step 1: Mount the Google Drive\n",
        "\n",
        "Remember to use GPU runtime before mounting your Google Drive. (Runtime --> Change runtime type)."
      ]
    },
    {
      "cell_type": "markdown",
      "metadata": {
        "id": "FyoSL1U8Xbjh"
      },
      "source": [
        "### Step 2: Open the project directory\n",
        "\n",
        "Replace `Your_Dir` with your own path."
      ]
    },
    {
      "cell_type": "markdown",
      "metadata": {
        "id": "eTzYfAOEYN4C"
      },
      "source": [
        "### Step 3: Install required packages\n",
        "\n",
        "After installing them, Colab will require you to restart the session."
      ]
    },
    {
      "cell_type": "markdown",
      "metadata": {
        "id": "nSoRzGXCfUtz"
      },
      "source": [
        "### Step 4: Start your experiments!\n",
        "\n",
        "- Remember to download and copy the dataset to this directory: `Your_Dir/emg2qwerty/data`.\n",
        "- You may now start your experiments with any scripts! Below are examples of single-user training and testing (greedy decoding).\n",
        "- **There are two ways to track the logs:**\n",
        "  - 1. Keep `--multirun`, and the logs will not be printed here, but they will be saved in the folder `logs`, e.g., `logs/2025-02-09/18-24-15/submitit_logs/`.\n",
        "  - 2. Comment out `--multirun` and the logs will be printed in this notebook, but they will not be saved."
      ]
    },
    {
      "cell_type": "markdown",
      "metadata": {
        "id": "IVuSn4rXhLJa"
      },
      "source": [
        "#### Training\n",
        "\n",
        "- The checkpoints are saved in the folder `logs`, e.g., `logs/2025-02-09/18-24-15/checkpoints/`."
      ]
    },
    {
      "cell_type": "code",
      "execution_count": 1,
      "metadata": {},
      "outputs": [
        {
          "name": "stdout",
          "output_type": "stream",
          "text": [
            "2.3.0\n",
            "12.1\n",
            "8902\n"
          ]
        }
      ],
      "source": [
        "import torch\n",
        "print(torch.__version__)  # PyTorch version\n",
        "print(torch.version.cuda)  # CUDA version\n",
        "print(torch.backends.cudnn.version())  # cuDNN version"
      ]
    },
    {
      "cell_type": "code",
      "execution_count": 4,
      "metadata": {},
      "outputs": [],
      "source": [
        "import torch.nn as nn\n",
        "encoder_layer = nn.TransformerEncoderLayer(d_model=512, nhead=8, batch_first=True)\n",
        "transformer_encoder = nn.TransformerEncoder(encoder_layer, num_layers=6)\n",
        "src = torch.rand(10, 32, 512)\n",
        "out = transformer_encoder(src)"
      ]
    },
    {
      "cell_type": "code",
      "execution_count": 5,
      "metadata": {},
      "outputs": [
        {
          "data": {
            "text/plain": [
              "torch.Size([10, 32, 512])"
            ]
          },
          "execution_count": 5,
          "metadata": {},
          "output_type": "execute_result"
        }
      ],
      "source": [
        "out.shape"
      ]
    },
    {
      "cell_type": "code",
      "execution_count": 11,
      "metadata": {},
      "outputs": [],
      "source": [
        "class TDSConv2dBlock(nn.Module):\n",
        "    \"\"\"A 2D temporal convolution block as per \"Sequence-to-Sequence Speech\n",
        "    Recognition with Time-Depth Separable Convolutions, Hannun et al\"\n",
        "    (https://arxiv.org/abs/1904.02619).\n",
        "\n",
        "    Args:\n",
        "        channels (int): Number of input and output channels. For an input of\n",
        "            shape (T, N, num_features), the invariant we want is\n",
        "            channels * width = num_features.\n",
        "        width (int): Input width. For an input of shape (T, N, num_features),\n",
        "            the invariant we want is channels * width = num_features.\n",
        "        kernel_width (int): The kernel size of the temporal convolution.\n",
        "    \"\"\"\n",
        "\n",
        "    def __init__(self, channels: int, width: int, kernel_width: int) -> None:\n",
        "        super().__init__()\n",
        "        self.channels = channels\n",
        "        self.width = width\n",
        "\n",
        "        self.conv2d = nn.Conv2d(\n",
        "            in_channels=channels,\n",
        "            out_channels=channels,\n",
        "            kernel_size=(1, kernel_width),\n",
        "        )\n",
        "        self.relu = nn.ReLU()\n",
        "        self.layer_norm = nn.LayerNorm(channels * width)\n",
        "\n",
        "    def forward(self, inputs: torch.Tensor) -> torch.Tensor:\n",
        "        T_in, N, C = inputs.shape  # TNC\n",
        "\n",
        "        # TNC -> NCT -> NcwT\n",
        "        x = inputs.movedim(0, -1).reshape(N, self.channels, self.width, T_in)\n",
        "        print(x.shape)\n",
        "        x = self.conv2d(x)\n",
        "        print(x.shape)\n",
        "        x = self.relu(x)\n",
        "        x = x.reshape(N, C, -1).movedim(-1, 0)  # NcwT -> NCT -> TNC\n",
        "\n",
        "        # Skip connection after downsampling\n",
        "        T_out = x.shape[0]\n",
        "        x = x + inputs[-T_out:]\n",
        "\n",
        "        # Layer norm over C\n",
        "        return self.layer_norm(x)  # TNC"
      ]
    },
    {
      "cell_type": "code",
      "execution_count": 12,
      "metadata": {},
      "outputs": [],
      "source": [
        "T_in = 256 \n",
        "N = 32\n",
        "B = 2\n",
        "C = 16\n"
      ]
    },
    {
      "cell_type": "code",
      "execution_count": 13,
      "metadata": {},
      "outputs": [],
      "source": [
        "data = torch.rand(T_in, N, C * B)"
      ]
    },
    {
      "cell_type": "code",
      "execution_count": 16,
      "metadata": {},
      "outputs": [],
      "source": [
        "block = TDSConv2dBlock(\n",
        "    channels=C, width=B, kernel_width=4\n",
        ")"
      ]
    },
    {
      "cell_type": "code",
      "execution_count": 19,
      "metadata": {},
      "outputs": [
        {
          "name": "stdout",
          "output_type": "stream",
          "text": [
            "Original: torch.Size([256, 32, 32])\n",
            "torch.Size([32, 16, 2, 256])\n",
            "torch.Size([32, 16, 2, 253])\n",
            "After TDSConv2dBlock torch.Size([253, 32, 32])\n"
          ]
        }
      ],
      "source": [
        "print(\"Original:\", data.shape)\n",
        "result = block(data)\n",
        "print(\"After TDSConv2dBlock\", result.shape)"
      ]
    },
    {
      "cell_type": "code",
      "execution_count": 21,
      "metadata": {},
      "outputs": [],
      "source": [
        "class TDSAttnBlock(nn.Module):\n",
        "    def __init__(self, channels: int, width: int, num_heads: int, num_layers: int) -> None:\n",
        "        super().__init__()\n",
        "        self.channels = channels\n",
        "        self.width = width\n",
        "        self.C = self.channels * self.width\n",
        "\n",
        "        encoder_layer = nn.TransformerEncoderLayer(d_model=self.C, nhead=num_heads, batch_first=True)\n",
        "        self.encoder = nn.TransformerEncoder(encoder_layer, num_layers=num_layers)\n",
        "\n",
        "    def forward(self, inputs: torch.Tensor) -> torch.Tensor:\n",
        "        # T_in, N, C = inputs.shape  # TNC\n",
        "\n",
        "        # TNC -> NTC\n",
        "        x = inputs.permute(1, 0, 2)\n",
        "        x = self.encoder(x)\n",
        "        # NCT -> TNC\n",
        "        x = x.permute(1, 0, 2) \n",
        "        return x"
      ]
    },
    {
      "cell_type": "code",
      "execution_count": 20,
      "metadata": {},
      "outputs": [
        {
          "data": {
            "text/plain": [
              "torch.Size([256, 32, 32])"
            ]
          },
          "execution_count": 20,
          "metadata": {},
          "output_type": "execute_result"
        }
      ],
      "source": [
        "data.shape"
      ]
    },
    {
      "cell_type": "code",
      "execution_count": 22,
      "metadata": {},
      "outputs": [],
      "source": [
        "attn_block = TDSAttnBlock(\n",
        "    channels=C, width=B, num_heads=4, num_layers=2\n",
        ")"
      ]
    },
    {
      "cell_type": "code",
      "execution_count": 23,
      "metadata": {},
      "outputs": [
        {
          "data": {
            "text/plain": [
              "torch.Size([256, 32, 32])"
            ]
          },
          "execution_count": 23,
          "metadata": {},
          "output_type": "execute_result"
        }
      ],
      "source": [
        "attn_block(data).shape"
      ]
    },
    {
      "cell_type": "code",
      "execution_count": null,
      "metadata": {},
      "outputs": [],
      "source": []
    }
  ],
  "metadata": {
    "accelerator": "GPU",
    "colab": {
      "gpuType": "T4",
      "provenance": []
    },
    "kernelspec": {
      "display_name": "emg2qwerty",
      "language": "python",
      "name": "python3"
    },
    "language_info": {
      "codemirror_mode": {
        "name": "ipython",
        "version": 3
      },
      "file_extension": ".py",
      "mimetype": "text/x-python",
      "name": "python",
      "nbconvert_exporter": "python",
      "pygments_lexer": "ipython3",
      "version": "3.10.13"
    }
  },
  "nbformat": 4,
  "nbformat_minor": 0
}
